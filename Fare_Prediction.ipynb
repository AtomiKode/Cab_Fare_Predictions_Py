{
 "cells": [
  {
   "cell_type": "markdown",
   "metadata": {},
   "source": [
    "# Cab Fare Prediction"
   ]
  },
  {
   "cell_type": "code",
   "execution_count": 1,
   "metadata": {},
   "outputs": [],
   "source": [
    "#Load libraries\n",
    "import os\n",
    "import pandas as pd\n",
    "import numpy as np\n",
    "import matplotlib.pyplot as plt"
   ]
  },
  {
   "cell_type": "code",
   "execution_count": 2,
   "metadata": {},
   "outputs": [],
   "source": [
    "os.chdir(\"C:\\\\Users\\\\SAGAR\\\\Downloads\\\\Data Science\\\\Cab_Fare_Prediction\")"
   ]
  },
  {
   "cell_type": "code",
   "execution_count": 3,
   "metadata": {},
   "outputs": [],
   "source": [
    "df=pd.read_csv(\"train_clean.csv\")\n",
    "df1=pd.read_csv(\"test_clean.csv\")"
   ]
  },
  {
   "cell_type": "code",
   "execution_count": 4,
   "metadata": {},
   "outputs": [
    {
     "data": {
      "text/html": [
       "<div>\n",
       "<style scoped>\n",
       "    .dataframe tbody tr th:only-of-type {\n",
       "        vertical-align: middle;\n",
       "    }\n",
       "\n",
       "    .dataframe tbody tr th {\n",
       "        vertical-align: top;\n",
       "    }\n",
       "\n",
       "    .dataframe thead th {\n",
       "        text-align: right;\n",
       "    }\n",
       "</style>\n",
       "<table border=\"1\" class=\"dataframe\">\n",
       "  <thead>\n",
       "    <tr style=\"text-align: right;\">\n",
       "      <th></th>\n",
       "      <th>fare_amount</th>\n",
       "      <th>pickup_longitude</th>\n",
       "      <th>pickup_latitude</th>\n",
       "      <th>dropoff_longitude</th>\n",
       "      <th>dropoff_latitude</th>\n",
       "      <th>passenger_count</th>\n",
       "      <th>H_Distance</th>\n",
       "      <th>Year</th>\n",
       "      <th>Month</th>\n",
       "      <th>Date</th>\n",
       "      <th>Day of Week</th>\n",
       "      <th>Hour</th>\n",
       "    </tr>\n",
       "  </thead>\n",
       "  <tbody>\n",
       "    <tr>\n",
       "      <th>0</th>\n",
       "      <td>4.5</td>\n",
       "      <td>-73.844311</td>\n",
       "      <td>40.721319</td>\n",
       "      <td>-73.841610</td>\n",
       "      <td>40.712278</td>\n",
       "      <td>1.0</td>\n",
       "      <td>1.030764</td>\n",
       "      <td>2009</td>\n",
       "      <td>6</td>\n",
       "      <td>15</td>\n",
       "      <td>0</td>\n",
       "      <td>17</td>\n",
       "    </tr>\n",
       "    <tr>\n",
       "      <th>1</th>\n",
       "      <td>16.9</td>\n",
       "      <td>-74.016048</td>\n",
       "      <td>40.711303</td>\n",
       "      <td>-73.979268</td>\n",
       "      <td>40.782004</td>\n",
       "      <td>1.0</td>\n",
       "      <td>8.450134</td>\n",
       "      <td>2010</td>\n",
       "      <td>1</td>\n",
       "      <td>5</td>\n",
       "      <td>1</td>\n",
       "      <td>16</td>\n",
       "    </tr>\n",
       "    <tr>\n",
       "      <th>2</th>\n",
       "      <td>5.7</td>\n",
       "      <td>-73.982738</td>\n",
       "      <td>40.761270</td>\n",
       "      <td>-73.991242</td>\n",
       "      <td>40.750562</td>\n",
       "      <td>2.0</td>\n",
       "      <td>1.389525</td>\n",
       "      <td>2011</td>\n",
       "      <td>8</td>\n",
       "      <td>18</td>\n",
       "      <td>3</td>\n",
       "      <td>0</td>\n",
       "    </tr>\n",
       "    <tr>\n",
       "      <th>3</th>\n",
       "      <td>7.7</td>\n",
       "      <td>-73.983760</td>\n",
       "      <td>40.758209</td>\n",
       "      <td>-73.985714</td>\n",
       "      <td>40.758140</td>\n",
       "      <td>1.0</td>\n",
       "      <td>0.164784</td>\n",
       "      <td>2012</td>\n",
       "      <td>4</td>\n",
       "      <td>21</td>\n",
       "      <td>5</td>\n",
       "      <td>4</td>\n",
       "    </tr>\n",
       "    <tr>\n",
       "      <th>4</th>\n",
       "      <td>5.3</td>\n",
       "      <td>-73.968095</td>\n",
       "      <td>40.768008</td>\n",
       "      <td>-73.956655</td>\n",
       "      <td>40.783762</td>\n",
       "      <td>1.0</td>\n",
       "      <td>1.999157</td>\n",
       "      <td>2010</td>\n",
       "      <td>3</td>\n",
       "      <td>9</td>\n",
       "      <td>1</td>\n",
       "      <td>7</td>\n",
       "    </tr>\n",
       "  </tbody>\n",
       "</table>\n",
       "</div>"
      ],
      "text/plain": [
       "   fare_amount  pickup_longitude  pickup_latitude  dropoff_longitude  \\\n",
       "0          4.5        -73.844311        40.721319         -73.841610   \n",
       "1         16.9        -74.016048        40.711303         -73.979268   \n",
       "2          5.7        -73.982738        40.761270         -73.991242   \n",
       "3          7.7        -73.983760        40.758209         -73.985714   \n",
       "4          5.3        -73.968095        40.768008         -73.956655   \n",
       "\n",
       "   dropoff_latitude  passenger_count  H_Distance  Year  Month  Date  \\\n",
       "0         40.712278              1.0    1.030764  2009      6    15   \n",
       "1         40.782004              1.0    8.450134  2010      1     5   \n",
       "2         40.750562              2.0    1.389525  2011      8    18   \n",
       "3         40.758140              1.0    0.164784  2012      4    21   \n",
       "4         40.783762              1.0    1.999157  2010      3     9   \n",
       "\n",
       "   Day of Week  Hour  \n",
       "0            0    17  \n",
       "1            1    16  \n",
       "2            3     0  \n",
       "3            5     4  \n",
       "4            1     7  "
      ]
     },
     "execution_count": 4,
     "metadata": {},
     "output_type": "execute_result"
    }
   ],
   "source": [
    "df.head()"
   ]
  },
  {
   "cell_type": "code",
   "execution_count": 5,
   "metadata": {},
   "outputs": [],
   "source": [
    "#Sepearating our training data into training and validation data\n",
    "\n",
    "from sklearn.model_selection import train_test_split\n",
    "train, test = train_test_split(df, test_size=0.2)"
   ]
  },
  {
   "cell_type": "code",
   "execution_count": 6,
   "metadata": {},
   "outputs": [],
   "source": [
    "cols=['pickup_longitude','pickup_latitude','dropoff_longitude','dropoff_latitude','passenger_count','H_Distance','Year','Month','Day of Week','Hour','Date']\n",
    "\n",
    "y=train['fare_amount']\n",
    "valid=test['fare_amount']\n",
    "X_train=train[cols]\n",
    "X_test=test[cols]"
   ]
  },
  {
   "cell_type": "code",
   "execution_count": 7,
   "metadata": {},
   "outputs": [],
   "source": [
    "#Defining a function for calculating error metrics \n",
    "import sklearn.metrics as metrics\n",
    "def regression_results(y_true, y_pred):\n",
    "\n",
    "    # Regression metrics\n",
    "    explained_variance=metrics.explained_variance_score(y_true, y_pred)\n",
    "    mean_absolute_error=metrics.mean_absolute_error(y_true, y_pred) \n",
    "    mse=metrics.mean_squared_error(y_true, y_pred)\n",
    "    rmse=np.sqrt(mse)\n",
    "    mean_squared_log_error=metrics.mean_squared_log_error(y_true, y_pred)\n",
    "    median_absolute_error=metrics.median_absolute_error(y_true, y_pred)\n",
    "    r2=metrics.r2_score(y_true, y_pred)\n",
    "    mape = np.mean(np.abs((y_true - y_pred) / y_true))*100\n",
    "    \n",
    "    #calculating AIC\n",
    "    resid = y_true - y_pred\n",
    "    sse = sum(resid**2)\n",
    "    k=11\n",
    "    n=len(y_pred)\n",
    "\n",
    "    AIC = 2*k + n*np.log(sse/n)\n",
    "    \n",
    "    print('explained_variance: ', round(explained_variance,4))    \n",
    "    print('mean_squared_log_error: ', round(mean_squared_log_error,4))\n",
    "    print('r2: ', round(r2,4))\n",
    "    print('MAE: ', round(mean_absolute_error,4))\n",
    "    print('MAPE: ', round(mape,4))\n",
    "    print('MSE: ', round(mse,4))\n",
    "    print('RMSE: ', round(rmse,4))\n",
    "    print('AIC: ', round(AIC,4))"
   ]
  },
  {
   "cell_type": "markdown",
   "metadata": {},
   "source": [
    "## Multiple Linear Regression\n",
    "Creating a baseline multiple linear regression model "
   ]
  },
  {
   "cell_type": "code",
   "execution_count": 41,
   "metadata": {},
   "outputs": [
    {
     "data": {
      "text/plain": [
       "LinearRegression(copy_X=True, fit_intercept=True, n_jobs=None, normalize=False)"
      ]
     },
     "execution_count": 41,
     "metadata": {},
     "output_type": "execute_result"
    }
   ],
   "source": [
    "from sklearn.linear_model import LinearRegression\n",
    "model=LinearRegression()\n",
    "model.fit(X_train,y)"
   ]
  },
  {
   "cell_type": "code",
   "execution_count": 42,
   "metadata": {},
   "outputs": [
    {
     "name": "stdout",
     "output_type": "stream",
     "text": [
      "explained_variance:  0.7841\n",
      "mean_squared_log_error:  0.0698\n",
      "r2:  0.7841\n",
      "MAE:  2.2746\n",
      "MAPE:  22.1855\n",
      "MSE:  17.9309\n",
      "RMSE:  4.2345\n",
      "AIC:  36865.5946\n"
     ]
    }
   ],
   "source": [
    "#Prediction on train data\n",
    "pred=model.predict(X_train)\n",
    "regression_results(y,pred)"
   ]
  },
  {
   "cell_type": "code",
   "execution_count": 43,
   "metadata": {
    "scrolled": true
   },
   "outputs": [
    {
     "name": "stdout",
     "output_type": "stream",
     "text": [
      "explained_variance:  0.816\n",
      "mean_squared_log_error:  0.069\n",
      "r2:  0.816\n",
      "MAE:  2.3126\n",
      "MAPE:  22.3736\n",
      "MSE:  17.0545\n",
      "RMSE:  4.1297\n",
      "AIC:  9075.8371\n"
     ]
    }
   ],
   "source": [
    "#Prediction on test data\n",
    "pred=model.predict(X_test)\n",
    "regression_results(valid,pred)"
   ]
  },
  {
   "cell_type": "markdown",
   "metadata": {},
   "source": [
    "The baseline RMSE we got is 4.2345 for train data and 4.1297 for validation data. Our aim is to build a model that has better RMSE score than this. Also, the variance between these two RMSEs matter and should be minimum, because if these are far apart, it would indicate overfitting of the model which we must avoid."
   ]
  },
  {
   "cell_type": "markdown",
   "metadata": {},
   "source": [
    "## Lasso Regression \n",
    "We will try Lasso regression to see if we get better results."
   ]
  },
  {
   "cell_type": "code",
   "execution_count": 11,
   "metadata": {},
   "outputs": [],
   "source": [
    "from sklearn.linear_model import Lasso\n",
    "alphas =[1e-5,1e-3, 1e-2, 0.02, 0.04,0.08,0.1]"
   ]
  },
  {
   "cell_type": "code",
   "execution_count": 12,
   "metadata": {},
   "outputs": [],
   "source": [
    "def error(y, y_pred):\n",
    "    return np.sqrt(metrics.mean_squared_error(y,y_pred))"
   ]
  },
  {
   "cell_type": "code",
   "execution_count": 13,
   "metadata": {},
   "outputs": [
    {
     "name": "stdout",
     "output_type": "stream",
     "text": [
      "alpha : {0.00001} RMSE : {4.234486650}\n",
      "alpha : {0.00100} RMSE : {4.235201450}\n",
      "alpha : {0.01000} RMSE : {4.264633136}\n",
      "alpha : {0.02000} RMSE : {4.276417532}\n",
      "alpha : {0.04000} RMSE : {4.276617069}\n",
      "alpha : {0.08000} RMSE : {4.277088342}\n",
      "alpha : {0.10000} RMSE : {4.277415902}\n"
     ]
    }
   ],
   "source": [
    "for alpha in alphas:\n",
    "    lasso = Lasso(alpha = alpha)\n",
    "    lasso.fit(X_train, y)\n",
    "    y_train_pred = lasso.predict(X_train)\n",
    "    rmse =error(y, y_train_pred)\n",
    "    print(\"alpha : {%.5f} RMSE : {%.9f}\" %(alpha,rmse))"
   ]
  },
  {
   "cell_type": "markdown",
   "metadata": {},
   "source": [
    "Using lasso regression is not feasible as alpha=1e-5 gives us least RMSE of 4.2344 which is almost as good as multiple linear regression model's RMSE according to above analysis.But if we use such a small value of alpha for lasso, it will reduce lasso to linear regression model (as alpha=0 for lasso gives linear regression)\n",
    "\n",
    "Thus, we won't use Lasso for our further analysis."
   ]
  },
  {
   "cell_type": "markdown",
   "metadata": {},
   "source": [
    "## Decision Tree"
   ]
  },
  {
   "cell_type": "code",
   "execution_count": 14,
   "metadata": {},
   "outputs": [],
   "source": [
    "from sklearn.tree import DecisionTreeRegressor"
   ]
  },
  {
   "cell_type": "code",
   "execution_count": 15,
   "metadata": {
    "scrolled": true
   },
   "outputs": [
    {
     "name": "stdout",
     "output_type": "stream",
     "text": [
      "max_depth : {1.00000} RMSE : {6.160608440}\n",
      "max_depth : {2.00000} RMSE : {4.735452722}\n",
      "max_depth : {3.00000} RMSE : {4.355844074}\n",
      "max_depth : {4.00000} RMSE : {3.996920353}\n",
      "max_depth : {5.00000} RMSE : {3.769246323}\n",
      "max_depth : {6.00000} RMSE : {3.557881668}\n",
      "max_depth : {7.00000} RMSE : {3.301452129}\n",
      "max_depth : {8.00000} RMSE : {2.993678532}\n",
      "max_depth : {9.00000} RMSE : {2.715696504}\n",
      "max_depth : {10.00000} RMSE : {2.533465901}\n",
      "max_depth : {11.00000} RMSE : {2.349116735}\n",
      "max_depth : {12.00000} RMSE : {2.160502322}\n",
      "max_depth : {13.00000} RMSE : {1.882338596}\n",
      "max_depth : {14.00000} RMSE : {1.677890361}\n",
      "max_depth : {15.00000} RMSE : {1.463058718}\n",
      "max_depth : {16.00000} RMSE : {1.286234332}\n",
      "max_depth : {17.00000} RMSE : {1.109640228}\n",
      "max_depth : {18.00000} RMSE : {0.927789925}\n",
      "max_depth : {19.00000} RMSE : {0.784919764}\n",
      "max_depth : {20.00000} RMSE : {0.655052318}\n",
      "max_depth : {21.00000} RMSE : {0.546507394}\n",
      "max_depth : {22.00000} RMSE : {0.440270655}\n",
      "max_depth : {23.00000} RMSE : {0.350287247}\n",
      "max_depth : {24.00000} RMSE : {0.268129386}\n",
      "max_depth : {25.00000} RMSE : {0.206405160}\n",
      "max_depth : {26.00000} RMSE : {0.152930158}\n",
      "max_depth : {27.00000} RMSE : {0.105145274}\n",
      "max_depth : {28.00000} RMSE : {0.067710055}\n",
      "max_depth : {29.00000} RMSE : {0.036128428}\n",
      "max_depth : {30.00000} RMSE : {0.017007400}\n",
      "max_depth : {31.00000} RMSE : {0.006514374}\n",
      "max_depth : {32.00000} RMSE : {0.002580573}\n",
      "max_depth : {33.00000} RMSE : {0.001251762}\n",
      "max_depth : {34.00000} RMSE : {0.000000000}\n",
      "max_depth : {35.00000} RMSE : {0.000000000}\n",
      "max_depth : {36.00000} RMSE : {0.000000000}\n",
      "max_depth : {37.00000} RMSE : {0.000000000}\n",
      "max_depth : {38.00000} RMSE : {0.000000000}\n",
      "max_depth : {39.00000} RMSE : {0.000000000}\n",
      "max_depth : {40.00000} RMSE : {0.000000000}\n",
      "max_depth : {41.00000} RMSE : {0.000000000}\n",
      "max_depth : {42.00000} RMSE : {0.000000000}\n",
      "max_depth : {43.00000} RMSE : {0.000000000}\n",
      "max_depth : {44.00000} RMSE : {0.000000000}\n",
      "max_depth : {45.00000} RMSE : {0.000000000}\n",
      "max_depth : {46.00000} RMSE : {0.000000000}\n",
      "max_depth : {47.00000} RMSE : {0.000000000}\n",
      "max_depth : {48.00000} RMSE : {0.000000000}\n",
      "max_depth : {49.00000} RMSE : {0.000000000}\n"
     ]
    }
   ],
   "source": [
    "for i in range(1,50):\n",
    "        reg = DecisionTreeRegressor(max_depth = i)\n",
    "        reg.fit(X_train,y)\n",
    "        pred3=reg.predict(X_train)\n",
    "        error=np.sqrt(metrics.mean_squared_error(pred3,y))                \n",
    "        print(\"max_depth : {%.5f} RMSE : {%.9f}\" %(i,error))"
   ]
  },
  {
   "cell_type": "code",
   "execution_count": 16,
   "metadata": {
    "scrolled": true
   },
   "outputs": [
    {
     "name": "stdout",
     "output_type": "stream",
     "text": [
      "max_depth : {1.00000} RMSE : {6.125934374}\n",
      "max_depth : {2.00000} RMSE : {4.698628091}\n",
      "max_depth : {3.00000} RMSE : {4.424872229}\n",
      "max_depth : {4.00000} RMSE : {4.395464899}\n",
      "max_depth : {5.00000} RMSE : {4.392095178}\n",
      "max_depth : {6.00000} RMSE : {4.340045058}\n",
      "max_depth : {7.00000} RMSE : {4.461531575}\n",
      "max_depth : {8.00000} RMSE : {4.454774274}\n",
      "max_depth : {9.00000} RMSE : {4.878973168}\n",
      "max_depth : {10.00000} RMSE : {4.891075709}\n",
      "max_depth : {11.00000} RMSE : {5.067620985}\n",
      "max_depth : {12.00000} RMSE : {4.941043935}\n",
      "max_depth : {13.00000} RMSE : {5.186779060}\n",
      "max_depth : {14.00000} RMSE : {5.280532345}\n",
      "max_depth : {15.00000} RMSE : {5.347885037}\n",
      "max_depth : {16.00000} RMSE : {5.420074458}\n",
      "max_depth : {17.00000} RMSE : {5.589974681}\n",
      "max_depth : {18.00000} RMSE : {5.535756966}\n",
      "max_depth : {19.00000} RMSE : {5.389503830}\n",
      "max_depth : {20.00000} RMSE : {5.491632379}\n",
      "max_depth : {21.00000} RMSE : {5.543631717}\n",
      "max_depth : {22.00000} RMSE : {5.370702771}\n",
      "max_depth : {23.00000} RMSE : {5.477410798}\n",
      "max_depth : {24.00000} RMSE : {5.694819034}\n",
      "max_depth : {25.00000} RMSE : {5.505896706}\n",
      "max_depth : {26.00000} RMSE : {5.458953847}\n",
      "max_depth : {27.00000} RMSE : {5.526767285}\n",
      "max_depth : {28.00000} RMSE : {5.436928110}\n",
      "max_depth : {29.00000} RMSE : {5.681661553}\n",
      "max_depth : {30.00000} RMSE : {5.700641055}\n",
      "max_depth : {31.00000} RMSE : {5.579306209}\n",
      "max_depth : {32.00000} RMSE : {5.587158629}\n",
      "max_depth : {33.00000} RMSE : {5.726315359}\n",
      "max_depth : {34.00000} RMSE : {5.508727608}\n",
      "max_depth : {35.00000} RMSE : {5.663567564}\n",
      "max_depth : {36.00000} RMSE : {5.641896964}\n",
      "max_depth : {37.00000} RMSE : {5.519267618}\n",
      "max_depth : {38.00000} RMSE : {5.673293581}\n",
      "max_depth : {39.00000} RMSE : {5.503069700}\n",
      "max_depth : {40.00000} RMSE : {5.520512444}\n",
      "max_depth : {41.00000} RMSE : {5.557252205}\n",
      "max_depth : {42.00000} RMSE : {5.770940910}\n",
      "max_depth : {43.00000} RMSE : {5.430077651}\n",
      "max_depth : {44.00000} RMSE : {5.687138878}\n",
      "max_depth : {45.00000} RMSE : {5.711932170}\n",
      "max_depth : {46.00000} RMSE : {5.464248307}\n",
      "max_depth : {47.00000} RMSE : {5.420954069}\n",
      "max_depth : {48.00000} RMSE : {5.610200272}\n",
      "max_depth : {49.00000} RMSE : {5.503914940}\n"
     ]
    }
   ],
   "source": [
    "for i in range(1,50):\n",
    "        reg = DecisionTreeRegressor(max_depth = i)\n",
    "        reg.fit(X_train,y)\n",
    "        pred3=reg.predict(X_test)\n",
    "        error=np.sqrt(metrics.mean_squared_error(pred3,valid))                \n",
    "        print(\"max_depth : {%.5f} RMSE : {%.9f}\" %(i,error))"
   ]
  },
  {
   "cell_type": "markdown",
   "metadata": {},
   "source": [
    "We can see the RMSE value for prediction on training data goes down to 0 when max depth of the decision tree is more than 30. This means that our model with max depth 30 and above will exactly predict the training data i.e. overfitting. But,when we iterate our model on validation data, we see that it does not perform that well for max depth of 30.\n",
    "\n",
    "The minimum RMSE we obtain for prediction on validation data is for max depth 6 which is 4.3400 which is slightly more than previous two models. Thus, we will not use this model."
   ]
  },
  {
   "cell_type": "markdown",
   "metadata": {},
   "source": [
    "## Random Forest\n",
    "Let's try Random forst algorithm as it is based on ensemble method and we will see whether it gives better result than the decision tree."
   ]
  },
  {
   "cell_type": "code",
   "execution_count": 17,
   "metadata": {},
   "outputs": [
    {
     "data": {
      "text/plain": [
       "RandomForestRegressor(bootstrap=True, criterion='mse', max_depth=None,\n",
       "                      max_features='auto', max_leaf_nodes=None,\n",
       "                      min_impurity_decrease=0.0, min_impurity_split=None,\n",
       "                      min_samples_leaf=1, min_samples_split=2,\n",
       "                      min_weight_fraction_leaf=0.0, n_estimators=200,\n",
       "                      n_jobs=None, oob_score=False, random_state=None,\n",
       "                      verbose=0, warm_start=False)"
      ]
     },
     "execution_count": 17,
     "metadata": {},
     "output_type": "execute_result"
    }
   ],
   "source": [
    "from sklearn.ensemble import RandomForestRegressor\n",
    "rf = RandomForestRegressor(n_estimators = 200) #(n_estimators = 100)\n",
    "rf.fit(X_train, y)"
   ]
  },
  {
   "cell_type": "code",
   "execution_count": 18,
   "metadata": {},
   "outputs": [
    {
     "name": "stdout",
     "output_type": "stream",
     "text": [
      "explained_variance:  0.9758\n",
      "mean_squared_log_error:  0.0104\n",
      "r2:  0.9758\n",
      "MAE:  0.7456\n",
      "MAPE:  7.8455\n",
      "MSE:  2.008\n",
      "RMSE:  1.417\n",
      "AIC:  8920.2752\n"
     ]
    }
   ],
   "source": [
    "#Prediction on train data\n",
    "pred=rf.predict(X_train)\n",
    "regression_results(y,pred)"
   ]
  },
  {
   "cell_type": "code",
   "execution_count": 19,
   "metadata": {
    "scrolled": true
   },
   "outputs": [
    {
     "name": "stdout",
     "output_type": "stream",
     "text": [
      "explained_variance:  0.8224\n",
      "mean_squared_log_error:  0.0684\n",
      "r2:  0.8224\n",
      "MAE:  2.1168\n",
      "MAPE:  22.4607\n",
      "MSE:  16.4626\n",
      "RMSE:  4.0574\n",
      "AIC:  8963.0772\n"
     ]
    }
   ],
   "source": [
    "#Prediction on test data\n",
    "pred=rf.predict(X_test)\n",
    "regression_results(valid,pred)"
   ]
  },
  {
   "cell_type": "markdown",
   "metadata": {},
   "source": [
    "Although, the RMSE for train and validation data are the least of all above models.But,it is observed that RMSEs of train and validation data are way off. The variance is more than 2. This clearly indicates overfitting of the model and thus, we shall not use it."
   ]
  },
  {
   "cell_type": "markdown",
   "metadata": {},
   "source": [
    "## Light Gradient Boosting"
   ]
  },
  {
   "cell_type": "code",
   "execution_count": 20,
   "metadata": {},
   "outputs": [],
   "source": [
    "import lightgbm as lgbm\n",
    "params = {\n",
    "        'boosting_type':'gbdt',\n",
    "        'objective': 'regression',\n",
    "        'nthread': -1,\n",
    "        'verbose': 0,\n",
    "        'num_leaves': 31,\n",
    "        'learning_rate': 0.05,\n",
    "        'max_depth': -1,\n",
    "        'subsample': 0.8,\n",
    "        'subsample_freq': 1,\n",
    "        'colsample_bytree': 0.6,\n",
    "        'reg_aplha': 1,\n",
    "        'reg_lambda': 0.001,\n",
    "        'metric': 'rmse',\n",
    "        'min_split_gain': 0.5,\n",
    "        'min_child_weight': 1,\n",
    "        'min_child_samples': 10,\n",
    "        'scale_pos_weight':1     \n",
    "    }"
   ]
  },
  {
   "cell_type": "code",
   "execution_count": 21,
   "metadata": {},
   "outputs": [],
   "source": [
    "pred_test_y = np.zeros(X_test.shape[0])"
   ]
  },
  {
   "cell_type": "code",
   "execution_count": 22,
   "metadata": {},
   "outputs": [],
   "source": [
    "train_set = lgbm.Dataset(X_train,y, silent=True)\n",
    "model = lgbm.train(params, train_set = train_set, num_boost_round=300)"
   ]
  },
  {
   "cell_type": "code",
   "execution_count": 23,
   "metadata": {},
   "outputs": [
    {
     "name": "stdout",
     "output_type": "stream",
     "text": [
      "explained_variance:  0.9105\n",
      "mean_squared_log_error:  0.0374\n",
      "r2:  0.9105\n",
      "MAE:  1.5297\n",
      "MAPE:  15.5951\n",
      "MSE:  6.465\n",
      "RMSE:  2.5426\n",
      "AIC:  23844.705\n"
     ]
    }
   ],
   "source": [
    "#On train data\n",
    "pred_test_y = model.predict(X_train, num_iteration = model.best_iteration)\n",
    "regression_results(pred_test_y,y)"
   ]
  },
  {
   "cell_type": "code",
   "execution_count": 24,
   "metadata": {
    "scrolled": true
   },
   "outputs": [
    {
     "name": "stdout",
     "output_type": "stream",
     "text": [
      "explained_variance:  0.8189\n",
      "mean_squared_log_error:  0.0612\n",
      "r2:  0.8189\n",
      "MAE:  1.9799\n",
      "MAPE:  19.0218\n",
      "MSE:  14.0545\n",
      "RMSE:  3.7489\n",
      "AIC:  8458.2802\n"
     ]
    }
   ],
   "source": [
    "#On test data\n",
    "pred_test_y = model.predict(X_test, num_iteration = model.best_iteration)\n",
    "regression_results(pred_test_y,valid)"
   ]
  },
  {
   "cell_type": "markdown",
   "metadata": {},
   "source": [
    "Light gradient boosting model seems to perform better than all previous models with least RMSEs in both training and validation and variance between train and validation is 1.2. But before we fix this model for our test data, lets try XGBoost algorithm to see if it performs better than this."
   ]
  },
  {
   "cell_type": "markdown",
   "metadata": {},
   "source": [
    "## Xtreme Gradient Boosting"
   ]
  },
  {
   "cell_type": "code",
   "execution_count": 25,
   "metadata": {},
   "outputs": [
    {
     "name": "stderr",
     "output_type": "stream",
     "text": [
      "E:\\Software_Installed\\Anaconda\\lib\\site-packages\\xgboost\\core.py:587: FutureWarning: Series.base is deprecated and will be removed in a future version\n",
      "  if getattr(data, 'base', None) is not None and \\\n",
      "E:\\Software_Installed\\Anaconda\\lib\\site-packages\\xgboost\\core.py:588: FutureWarning: Series.base is deprecated and will be removed in a future version\n",
      "  data.base is not None and isinstance(data, np.ndarray) \\\n"
     ]
    }
   ],
   "source": [
    "import xgboost as xgb \n",
    "dtrain = xgb.DMatrix(X_train, label=y)\n",
    "dtest = xgb.DMatrix(X_test)"
   ]
  },
  {
   "cell_type": "code",
   "execution_count": 45,
   "metadata": {},
   "outputs": [],
   "source": [
    "params = {'max_depth':7,\n",
    "          'silent':1,\n",
    "          'objective':'reg:linear',\n",
    "          'eval_metric':'rmse',\n",
    "          'learning_rate':0.05\n",
    "         }\n",
    "num_rounds = 50"
   ]
  },
  {
   "cell_type": "code",
   "execution_count": 27,
   "metadata": {},
   "outputs": [],
   "source": [
    "xb = xgb.train(params, dtrain, num_rounds)"
   ]
  },
  {
   "cell_type": "code",
   "execution_count": 28,
   "metadata": {},
   "outputs": [
    {
     "name": "stdout",
     "output_type": "stream",
     "text": [
      "explained_variance:  0.8524\n",
      "mean_squared_log_error:  0.0455\n",
      "r2:  0.8402\n",
      "MAE:  1.7686\n",
      "MAPE:  18.5575\n",
      "MSE:  9.5186\n",
      "RMSE:  3.0852\n",
      "AIC:  28782.496\n"
     ]
    }
   ],
   "source": [
    "#Prediction on train data\n",
    "y_pred_xgb = xb.predict(dtrain)\n",
    "regression_results(y_pred_xgb,y)"
   ]
  },
  {
   "cell_type": "code",
   "execution_count": 29,
   "metadata": {
    "scrolled": false
   },
   "outputs": [
    {
     "name": "stdout",
     "output_type": "stream",
     "text": [
      "explained_variance:  0.729\n",
      "mean_squared_log_error:  0.0679\n",
      "r2:  0.7158\n",
      "MAE:  2.1353\n",
      "MAPE:  21.1107\n",
      "MSE:  18.0905\n",
      "RMSE:  4.2533\n",
      "AIC:  9264.0709\n"
     ]
    }
   ],
   "source": [
    "#Prediction on test data\n",
    "y_pred_xgb = xb.predict(dtest)\n",
    "regression_results(y_pred_xgb,valid)"
   ]
  },
  {
   "cell_type": "markdown",
   "metadata": {},
   "source": [
    "This model gives us RMSE of 4.2533 for validation data which is slightly more than our baseline model of MLR and thus, we shall not use it. "
   ]
  },
  {
   "cell_type": "markdown",
   "metadata": {},
   "source": [
    "#### Out of all the models we have implemented, LGBoost  performed the best.  LGBoost provides with RMSE of 3.9813 which is better than any other model implemented.\n",
    "\n",
    "#### Thus we shall select LGBoost for prediction of our test data. "
   ]
  },
  {
   "cell_type": "markdown",
   "metadata": {},
   "source": [
    "## Predicting test values with LGBoost"
   ]
  },
  {
   "cell_type": "code",
   "execution_count": 30,
   "metadata": {
    "scrolled": true
   },
   "outputs": [],
   "source": [
    "test_cab=df1.copy() "
   ]
  },
  {
   "cell_type": "code",
   "execution_count": 31,
   "metadata": {},
   "outputs": [
    {
     "data": {
      "text/html": [
       "<div>\n",
       "<style scoped>\n",
       "    .dataframe tbody tr th:only-of-type {\n",
       "        vertical-align: middle;\n",
       "    }\n",
       "\n",
       "    .dataframe tbody tr th {\n",
       "        vertical-align: top;\n",
       "    }\n",
       "\n",
       "    .dataframe thead th {\n",
       "        text-align: right;\n",
       "    }\n",
       "</style>\n",
       "<table border=\"1\" class=\"dataframe\">\n",
       "  <thead>\n",
       "    <tr style=\"text-align: right;\">\n",
       "      <th></th>\n",
       "      <th>pickup_longitude</th>\n",
       "      <th>pickup_latitude</th>\n",
       "      <th>dropoff_longitude</th>\n",
       "      <th>dropoff_latitude</th>\n",
       "      <th>passenger_count</th>\n",
       "      <th>H_Distance</th>\n",
       "      <th>Year</th>\n",
       "      <th>Month</th>\n",
       "      <th>Day of Week</th>\n",
       "      <th>Hour</th>\n",
       "      <th>Date</th>\n",
       "    </tr>\n",
       "  </thead>\n",
       "  <tbody>\n",
       "    <tr>\n",
       "      <th>5635</th>\n",
       "      <td>-73.968423</td>\n",
       "      <td>40.755178</td>\n",
       "      <td>-73.962660</td>\n",
       "      <td>40.798307</td>\n",
       "      <td>5.0</td>\n",
       "      <td>4.820215</td>\n",
       "      <td>2011</td>\n",
       "      <td>4</td>\n",
       "      <td>2</td>\n",
       "      <td>23</td>\n",
       "      <td>27</td>\n",
       "    </tr>\n",
       "    <tr>\n",
       "      <th>5739</th>\n",
       "      <td>-73.950422</td>\n",
       "      <td>40.723102</td>\n",
       "      <td>-73.945342</td>\n",
       "      <td>40.721027</td>\n",
       "      <td>1.0</td>\n",
       "      <td>0.486323</td>\n",
       "      <td>2013</td>\n",
       "      <td>6</td>\n",
       "      <td>6</td>\n",
       "      <td>4</td>\n",
       "      <td>9</td>\n",
       "    </tr>\n",
       "    <tr>\n",
       "      <th>13180</th>\n",
       "      <td>-74.000806</td>\n",
       "      <td>40.730698</td>\n",
       "      <td>-73.978723</td>\n",
       "      <td>40.744827</td>\n",
       "      <td>1.0</td>\n",
       "      <td>2.435147</td>\n",
       "      <td>2014</td>\n",
       "      <td>4</td>\n",
       "      <td>3</td>\n",
       "      <td>19</td>\n",
       "      <td>3</td>\n",
       "    </tr>\n",
       "    <tr>\n",
       "      <th>11512</th>\n",
       "      <td>-73.948640</td>\n",
       "      <td>40.782205</td>\n",
       "      <td>-73.972840</td>\n",
       "      <td>40.759347</td>\n",
       "      <td>3.0</td>\n",
       "      <td>3.257802</td>\n",
       "      <td>2013</td>\n",
       "      <td>5</td>\n",
       "      <td>5</td>\n",
       "      <td>10</td>\n",
       "      <td>4</td>\n",
       "    </tr>\n",
       "    <tr>\n",
       "      <th>1236</th>\n",
       "      <td>-73.976830</td>\n",
       "      <td>40.762966</td>\n",
       "      <td>-73.974205</td>\n",
       "      <td>40.778412</td>\n",
       "      <td>1.0</td>\n",
       "      <td>1.731647</td>\n",
       "      <td>2015</td>\n",
       "      <td>3</td>\n",
       "      <td>2</td>\n",
       "      <td>15</td>\n",
       "      <td>18</td>\n",
       "    </tr>\n",
       "  </tbody>\n",
       "</table>\n",
       "</div>"
      ],
      "text/plain": [
       "       pickup_longitude  pickup_latitude  dropoff_longitude  dropoff_latitude  \\\n",
       "5635         -73.968423        40.755178         -73.962660         40.798307   \n",
       "5739         -73.950422        40.723102         -73.945342         40.721027   \n",
       "13180        -74.000806        40.730698         -73.978723         40.744827   \n",
       "11512        -73.948640        40.782205         -73.972840         40.759347   \n",
       "1236         -73.976830        40.762966         -73.974205         40.778412   \n",
       "\n",
       "       passenger_count  H_Distance  Year  Month  Day of Week  Hour  Date  \n",
       "5635               5.0    4.820215  2011      4            2    23    27  \n",
       "5739               1.0    0.486323  2013      6            6     4     9  \n",
       "13180              1.0    2.435147  2014      4            3    19     3  \n",
       "11512              3.0    3.257802  2013      5            5    10     4  \n",
       "1236               1.0    1.731647  2015      3            2    15    18  "
      ]
     },
     "execution_count": 31,
     "metadata": {},
     "output_type": "execute_result"
    }
   ],
   "source": [
    "X_train.head()"
   ]
  },
  {
   "cell_type": "code",
   "execution_count": 32,
   "metadata": {
    "scrolled": true
   },
   "outputs": [
    {
     "data": {
      "text/html": [
       "<div>\n",
       "<style scoped>\n",
       "    .dataframe tbody tr th:only-of-type {\n",
       "        vertical-align: middle;\n",
       "    }\n",
       "\n",
       "    .dataframe tbody tr th {\n",
       "        vertical-align: top;\n",
       "    }\n",
       "\n",
       "    .dataframe thead th {\n",
       "        text-align: right;\n",
       "    }\n",
       "</style>\n",
       "<table border=\"1\" class=\"dataframe\">\n",
       "  <thead>\n",
       "    <tr style=\"text-align: right;\">\n",
       "      <th></th>\n",
       "      <th>pickup_longitude</th>\n",
       "      <th>pickup_latitude</th>\n",
       "      <th>dropoff_longitude</th>\n",
       "      <th>dropoff_latitude</th>\n",
       "      <th>passenger_count</th>\n",
       "      <th>H_Distance</th>\n",
       "      <th>Year</th>\n",
       "      <th>Month</th>\n",
       "      <th>Day of Week</th>\n",
       "      <th>Hour</th>\n",
       "      <th>Date</th>\n",
       "    </tr>\n",
       "  </thead>\n",
       "  <tbody>\n",
       "    <tr>\n",
       "      <th>0</th>\n",
       "      <td>-73.973320</td>\n",
       "      <td>40.763805</td>\n",
       "      <td>-73.981430</td>\n",
       "      <td>40.743835</td>\n",
       "      <td>1</td>\n",
       "      <td>2.323259</td>\n",
       "      <td>2015</td>\n",
       "      <td>1</td>\n",
       "      <td>1</td>\n",
       "      <td>13</td>\n",
       "      <td>27</td>\n",
       "    </tr>\n",
       "    <tr>\n",
       "      <th>1</th>\n",
       "      <td>-73.986862</td>\n",
       "      <td>40.719383</td>\n",
       "      <td>-73.998886</td>\n",
       "      <td>40.739201</td>\n",
       "      <td>1</td>\n",
       "      <td>2.425353</td>\n",
       "      <td>2015</td>\n",
       "      <td>1</td>\n",
       "      <td>1</td>\n",
       "      <td>13</td>\n",
       "      <td>27</td>\n",
       "    </tr>\n",
       "    <tr>\n",
       "      <th>2</th>\n",
       "      <td>-73.982524</td>\n",
       "      <td>40.751260</td>\n",
       "      <td>-73.979654</td>\n",
       "      <td>40.746139</td>\n",
       "      <td>1</td>\n",
       "      <td>0.618628</td>\n",
       "      <td>2011</td>\n",
       "      <td>10</td>\n",
       "      <td>5</td>\n",
       "      <td>11</td>\n",
       "      <td>8</td>\n",
       "    </tr>\n",
       "    <tr>\n",
       "      <th>3</th>\n",
       "      <td>-73.981160</td>\n",
       "      <td>40.767807</td>\n",
       "      <td>-73.990448</td>\n",
       "      <td>40.751635</td>\n",
       "      <td>1</td>\n",
       "      <td>1.961033</td>\n",
       "      <td>2012</td>\n",
       "      <td>12</td>\n",
       "      <td>5</td>\n",
       "      <td>21</td>\n",
       "      <td>1</td>\n",
       "    </tr>\n",
       "    <tr>\n",
       "      <th>4</th>\n",
       "      <td>-73.966046</td>\n",
       "      <td>40.789775</td>\n",
       "      <td>-73.988565</td>\n",
       "      <td>40.744427</td>\n",
       "      <td>1</td>\n",
       "      <td>5.387301</td>\n",
       "      <td>2012</td>\n",
       "      <td>12</td>\n",
       "      <td>5</td>\n",
       "      <td>21</td>\n",
       "      <td>1</td>\n",
       "    </tr>\n",
       "  </tbody>\n",
       "</table>\n",
       "</div>"
      ],
      "text/plain": [
       "   pickup_longitude  pickup_latitude  dropoff_longitude  dropoff_latitude  \\\n",
       "0        -73.973320        40.763805         -73.981430         40.743835   \n",
       "1        -73.986862        40.719383         -73.998886         40.739201   \n",
       "2        -73.982524        40.751260         -73.979654         40.746139   \n",
       "3        -73.981160        40.767807         -73.990448         40.751635   \n",
       "4        -73.966046        40.789775         -73.988565         40.744427   \n",
       "\n",
       "   passenger_count  H_Distance  Year  Month  Day of Week  Hour  Date  \n",
       "0                1    2.323259  2015      1            1    13    27  \n",
       "1                1    2.425353  2015      1            1    13    27  \n",
       "2                1    0.618628  2011     10            5    11     8  \n",
       "3                1    1.961033  2012     12            5    21     1  \n",
       "4                1    5.387301  2012     12            5    21     1  "
      ]
     },
     "execution_count": 32,
     "metadata": {},
     "output_type": "execute_result"
    }
   ],
   "source": [
    "test_cab.head()"
   ]
  },
  {
   "cell_type": "code",
   "execution_count": 33,
   "metadata": {},
   "outputs": [],
   "source": [
    "import lightgbm as lgbm\n",
    "params = {\n",
    "        'boosting_type':'gbdt',\n",
    "        'objective': 'regression',\n",
    "        'nthread': -1,\n",
    "        'verbose': 0,\n",
    "        'num_leaves': 31,\n",
    "        'learning_rate': 0.05,\n",
    "        'max_depth': -1,\n",
    "        'subsample': 0.8,\n",
    "        'subsample_freq': 1,\n",
    "        'colsample_bytree': 0.6,\n",
    "        'reg_aplha': 1,\n",
    "        'reg_lambda': 0.001,\n",
    "        'metric': 'rmse',\n",
    "        'min_split_gain': 0.5,\n",
    "        'min_child_weight': 1,\n",
    "        'min_child_samples': 10,\n",
    "        'scale_pos_weight':1     \n",
    "    }"
   ]
  },
  {
   "cell_type": "code",
   "execution_count": 34,
   "metadata": {},
   "outputs": [],
   "source": [
    "pred_test_y = np.zeros(X_test.shape[0])"
   ]
  },
  {
   "cell_type": "code",
   "execution_count": 35,
   "metadata": {},
   "outputs": [],
   "source": [
    "train_set = lgbm.Dataset(X_train,y, silent=True)\n",
    "model = lgbm.train(params, train_set = train_set, num_boost_round=300)"
   ]
  },
  {
   "cell_type": "code",
   "execution_count": 36,
   "metadata": {},
   "outputs": [],
   "source": [
    "pred_test_y = model.predict(test_cab, num_iteration = model.best_iteration)"
   ]
  },
  {
   "cell_type": "code",
   "execution_count": 37,
   "metadata": {},
   "outputs": [
    {
     "data": {
      "text/plain": [
       "array([10.70176578,  9.9577318 ,  5.36207275, ..., 51.1751039 ,\n",
       "       21.49016281,  6.70014005])"
      ]
     },
     "execution_count": 37,
     "metadata": {},
     "output_type": "execute_result"
    }
   ],
   "source": [
    "pred_test_y"
   ]
  },
  {
   "cell_type": "code",
   "execution_count": 38,
   "metadata": {
    "scrolled": false
   },
   "outputs": [],
   "source": [
    "test_cab['predicted_fare']=pred_test_y"
   ]
  },
  {
   "cell_type": "code",
   "execution_count": 39,
   "metadata": {
    "scrolled": true
   },
   "outputs": [
    {
     "data": {
      "text/html": [
       "<div>\n",
       "<style scoped>\n",
       "    .dataframe tbody tr th:only-of-type {\n",
       "        vertical-align: middle;\n",
       "    }\n",
       "\n",
       "    .dataframe tbody tr th {\n",
       "        vertical-align: top;\n",
       "    }\n",
       "\n",
       "    .dataframe thead th {\n",
       "        text-align: right;\n",
       "    }\n",
       "</style>\n",
       "<table border=\"1\" class=\"dataframe\">\n",
       "  <thead>\n",
       "    <tr style=\"text-align: right;\">\n",
       "      <th></th>\n",
       "      <th>pickup_longitude</th>\n",
       "      <th>pickup_latitude</th>\n",
       "      <th>dropoff_longitude</th>\n",
       "      <th>dropoff_latitude</th>\n",
       "      <th>passenger_count</th>\n",
       "      <th>H_Distance</th>\n",
       "      <th>Year</th>\n",
       "      <th>Month</th>\n",
       "      <th>Day of Week</th>\n",
       "      <th>Hour</th>\n",
       "      <th>Date</th>\n",
       "      <th>predicted_fare</th>\n",
       "    </tr>\n",
       "  </thead>\n",
       "  <tbody>\n",
       "    <tr>\n",
       "      <th>0</th>\n",
       "      <td>-73.973320</td>\n",
       "      <td>40.763805</td>\n",
       "      <td>-73.981430</td>\n",
       "      <td>40.743835</td>\n",
       "      <td>1</td>\n",
       "      <td>2.323259</td>\n",
       "      <td>2015</td>\n",
       "      <td>1</td>\n",
       "      <td>1</td>\n",
       "      <td>13</td>\n",
       "      <td>27</td>\n",
       "      <td>10.701766</td>\n",
       "    </tr>\n",
       "    <tr>\n",
       "      <th>1</th>\n",
       "      <td>-73.986862</td>\n",
       "      <td>40.719383</td>\n",
       "      <td>-73.998886</td>\n",
       "      <td>40.739201</td>\n",
       "      <td>1</td>\n",
       "      <td>2.425353</td>\n",
       "      <td>2015</td>\n",
       "      <td>1</td>\n",
       "      <td>1</td>\n",
       "      <td>13</td>\n",
       "      <td>27</td>\n",
       "      <td>9.957732</td>\n",
       "    </tr>\n",
       "    <tr>\n",
       "      <th>2</th>\n",
       "      <td>-73.982524</td>\n",
       "      <td>40.751260</td>\n",
       "      <td>-73.979654</td>\n",
       "      <td>40.746139</td>\n",
       "      <td>1</td>\n",
       "      <td>0.618628</td>\n",
       "      <td>2011</td>\n",
       "      <td>10</td>\n",
       "      <td>5</td>\n",
       "      <td>11</td>\n",
       "      <td>8</td>\n",
       "      <td>5.362073</td>\n",
       "    </tr>\n",
       "    <tr>\n",
       "      <th>3</th>\n",
       "      <td>-73.981160</td>\n",
       "      <td>40.767807</td>\n",
       "      <td>-73.990448</td>\n",
       "      <td>40.751635</td>\n",
       "      <td>1</td>\n",
       "      <td>1.961033</td>\n",
       "      <td>2012</td>\n",
       "      <td>12</td>\n",
       "      <td>5</td>\n",
       "      <td>21</td>\n",
       "      <td>1</td>\n",
       "      <td>8.560943</td>\n",
       "    </tr>\n",
       "    <tr>\n",
       "      <th>4</th>\n",
       "      <td>-73.966046</td>\n",
       "      <td>40.789775</td>\n",
       "      <td>-73.988565</td>\n",
       "      <td>40.744427</td>\n",
       "      <td>1</td>\n",
       "      <td>5.387301</td>\n",
       "      <td>2012</td>\n",
       "      <td>12</td>\n",
       "      <td>5</td>\n",
       "      <td>21</td>\n",
       "      <td>1</td>\n",
       "      <td>14.556343</td>\n",
       "    </tr>\n",
       "  </tbody>\n",
       "</table>\n",
       "</div>"
      ],
      "text/plain": [
       "   pickup_longitude  pickup_latitude  dropoff_longitude  dropoff_latitude  \\\n",
       "0        -73.973320        40.763805         -73.981430         40.743835   \n",
       "1        -73.986862        40.719383         -73.998886         40.739201   \n",
       "2        -73.982524        40.751260         -73.979654         40.746139   \n",
       "3        -73.981160        40.767807         -73.990448         40.751635   \n",
       "4        -73.966046        40.789775         -73.988565         40.744427   \n",
       "\n",
       "   passenger_count  H_Distance  Year  Month  Day of Week  Hour  Date  \\\n",
       "0                1    2.323259  2015      1            1    13    27   \n",
       "1                1    2.425353  2015      1            1    13    27   \n",
       "2                1    0.618628  2011     10            5    11     8   \n",
       "3                1    1.961033  2012     12            5    21     1   \n",
       "4                1    5.387301  2012     12            5    21     1   \n",
       "\n",
       "   predicted_fare  \n",
       "0       10.701766  \n",
       "1        9.957732  \n",
       "2        5.362073  \n",
       "3        8.560943  \n",
       "4       14.556343  "
      ]
     },
     "execution_count": 39,
     "metadata": {},
     "output_type": "execute_result"
    }
   ],
   "source": [
    "test_cab.head()"
   ]
  },
  {
   "cell_type": "code",
   "execution_count": 44,
   "metadata": {},
   "outputs": [],
   "source": [
    "test_cab.to_csv('Final Predictions.csv',index=False)"
   ]
  },
  {
   "cell_type": "markdown",
   "metadata": {},
   "source": [
    "#### Thus, we have successfully predicted cab fares for our test dataset using Light Gradient Boosting Algorithm."
   ]
  }
 ],
 "metadata": {
  "kernelspec": {
   "display_name": "Python 3",
   "language": "python",
   "name": "python3"
  },
  "language_info": {
   "codemirror_mode": {
    "name": "ipython",
    "version": 3
   },
   "file_extension": ".py",
   "mimetype": "text/x-python",
   "name": "python",
   "nbconvert_exporter": "python",
   "pygments_lexer": "ipython3",
   "version": "3.7.3"
  }
 },
 "nbformat": 4,
 "nbformat_minor": 2
}
